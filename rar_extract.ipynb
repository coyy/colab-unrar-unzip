#@title # UNRAR PROGRAM { display-mode: "form" }

                               #########################################################
                               ################# EXTRACTING RAR FILES ##################
                               #########################################################

########################################################################################################################
                                        #   GLOBAL VARIABLES   #
#########################################################################################################################

file_paths = []
endtimes = []

########################################################################################################################
                          #   FUNCTION TO LINK GOOGLE DRIVE TO COLAB   #
#########################################################################################################################

def drive_token():
    print("TO LINK YOUR GOOGLE DRIVE, PLEASE AUTHENTICATE................................... \n")
    drive.mount('/content/drive')

########################################################################################################################
                          #   FUNCTION TO CHECK RAR FILES   #
#########################################################################################################################

def get_files():
  rar_archive_folder = "" #Enter Path Here
  from os import listdir
  from os.path import isfile, join
  rar_file_names = [f for f in listdir(rar_archive_folder) if isfile(join(rar_archive_folder, f))]
  rar_file_names.sort()
  print("RAR JOBS...........\n")
  for x in range(len(rar_file_names)):
    print("[" + str(x+1) +"] " + rar_file_names[x] )
  file_paths.extend(rar_file_names)

########################################################################################################################
                                #   FUNCTION TO DISPLAY RAR NAMES   #
#########################################################################################################################

def print_file_names(file_no) :
    num = 0
    print("\n########################################################################################################################\n")
    while num < len(file_paths):
        if num + 1 == file_no :
          process = ".................................[EXTRACTING]"
        elif num < file_no:
          process = "--------------[COMPLETED]-" + endtimes[num]
        else :
          process = ""
        print("  [" + str(num+1) + "]: " + file_paths[num] + "---" + process)
        num += 1
    print("\n########################################################################################################################\n")


########################################################################################################################
                          #   FUNCTION TO EXTRACT RAR FILES   #
#########################################################################################################################

def extract_rar(rar_file , num):
  from patoolib import extract_archive
  import os
  file_to_extract = "" + rar_file  #Enter Path Here
  print("[" + str(num) +"]:" + file_paths[num-1])
  print("Getting Files..............\n")
  print_file_names(num)
  #rar = rarfile.RarFile(file_to_extract)
  #clear_output()
  print("Extracting Files...................\n")
  #rar.printdir()
  print("\n######################################################################################################################################################\n")
  extract_to = '/content/drive/Shared drives/Unlimited Drive (Radon)/Unlimited Folder (Radon)/Extracted'
  extract_archive(file_to_extract, outdir=extract_to)

########################################################################################################################
                          #   METHOD 2 FUNCTION TO EXTRACT RAR FILES   #
#########################################################################################################################

def extract_rar_2(rar_file , num):
  import rarfile
  file_path = '/content/drive/Shared drives/Unlimited Drive (Radon)/Unlimited Folder (Radon)/Rar_Archives/' + rar_file
  print("Getting Files..............\n")
  print_file_names(num)
  rar = rarfile.RarFile(file_path)
  clear_output()
  print_file_names(num)
  print("Extracting Files...................\n")
  rar.printdir()
  print("\n######################################################################################################################################################\n")
  rar.extractall("/content/drive/Shared drives/Unlimited Drive (Radon)/Unlimited Folder (Radon)/Extracted")
  print("Extraction Complete........")


########################################################################################################################
                          #   METHOD 3 FUNCTION TO EXTRACT RAR FILES   #
#########################################################################################################################

def extract_rar_3(rar_file , num):
  import rarfile
  file_path = '/content/drive/Shared drives/Unlimited Drive (Radon)/Unlimited Folder (Radon)/Rar_Archives/' + rar_file
  print("Getting Files..............\n")
  print_file_names(num)
  rar = rarfile.RarFile(file_path)
  clear_output()
  print_file_names(num)
  print("Extracting Files...................\n")
  rar.printdir()
  print("\n######################################################################################################################################################\n")
  rar.extractall(path="/content/drive/Shared drives/Unlimited Drive (Radon)/Unlimited Folder (Radon)/Extracted" , pwd='snahp.it')
  print("Extraction Complete........")



########################################################################################################################
                          #   FUNCTION TO MOVE RAR FILES   #
#########################################################################################################################

def move_rar(rar_file , num):
  file_name = rar_file
  old_path = "/content/drive/Shared drives/Unlimited Drive (Radon)/Unlimited Folder (Radon)/Rar_Archives/" + file_name
  new_path = "/content/drive/Shared drives/Unlimited Drive (Radon)/Unlimited Folder (Radon)/Rar_Archives/Completed/" + file_name
  os.rename(old_path , new_path)
  print("\nMoved file " + file_name + " to Completed")

########################################################################################################################
                          #   EXCEPTION FUNCTION TO MOVE RAR FILES   #
#########################################################################################################################

def move_rar_incomplete(rar_file , num):
  file_name = rar_file
  old_path = "/content/drive/Shared drives/Unlimited Drive (Radon)/Unlimited Folder (Radon)/Rar_Archives/" + file_name
  new_path = "/content/drive/Shared drives/Unlimited Drive (Radon)/Unlimited Folder (Radon)/Rar_Archives/Incomplete/" + file_name
  os.rename(old_path , new_path)
  print("\nMoved file " + file_name + " to Incomplete")


########################################################################################################################
                                        #   FUNCTION TO PRINT ELASPED TIME   #
#########################################################################################################################

def time_elasped(start , end) :
    time_taken = "[" + str(int((end-start)//60)) + " min : " + str(int((end-start)%60)) + " sec]"
    return time_taken

########################################################################################################################
                                #   FUNCTION TO DISPLAY COMPLETED JOBS   #
#########################################################################################################################

def print_completed():
  print("\nPROCESS COMPLETE.....")
  print("\n     Total Elapsed Time: " + str(int((end_time-start_time)//60)) + "min :" + str(int((end_time-start_time)%60)) + "sec\n\n")
  num = 0
  print("\n\n----XX----XX----XX----XX----XX----XX----XX----XX----XX----XX----XX----XX----XX----XX----XX----XX----XX----XX----XX----XX----\n")
  while num < len(file_paths):
   print("     [" + str(num+1) + "]: " + file_paths[num] + "----------------------[COMPLETED]--" + endtimes[num])
   num += 1
  print("\n----XX----XX----XX----XX----XX----XX----XX----XX----XX----XX----XX----XX----XX----XX----XX----XX----XX----XX----XX----XX----\n\n")




########################################################################################################################
                                        #   MAIN FUNCTION   #
#########################################################################################################################
from google.colab import drive
from IPython.display import clear_output

drive_token()
clear_output()
!pip install unrar
clear_output()
!pip install patool
clear_output()
!pip install rarfile
clear_output()

from IPython.display import clear_output
from IPython.display import HTML
import time
import os
import sys
import datetime
import rarfile
from patoolib import extract_archive
from google.colab import drive
from os import listdir
from os.path import isfile, join

start_time = time.time()

class RarCRCError(Exception):
  pass

get_files()
time.sleep(5)

while len(file_paths) != 0:
  num = 1
  while num <= len(file_paths):
    rar_file = file_paths[num-1]
    try:
      clear_output()
      begin = time.time()
      extract_rar_2(rar_file , num)
      move_rar(rar_file , num)
      end = time.time()
      print("Elapsed Time: ",int((end-begin)//60),"min :", int((end-begin)%60), "sec")
      endtimes.append("[" + str(int((end-begin)//60)) + "min:" + str(int((end-begin)%60)) + "sec]")
      clear_output()

    except:
      endtimes.append("ERROR")
      move_rar_incomplete(rar_file , num)
      print("Error.......")
    num += 1


  end_time = time.time()
  print_completed()
  file_paths = []
  endtimes = []
  get_files()
